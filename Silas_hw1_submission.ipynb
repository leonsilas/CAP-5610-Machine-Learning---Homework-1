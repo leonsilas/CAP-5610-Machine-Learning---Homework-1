{
 "cells": [
  {
   "cell_type": "markdown",
   "id": "28019911",
   "metadata": {},
   "source": [
    "# Homework Assignment 1"
   ]
  },
  {
   "cell_type": "code",
   "execution_count": 1,
   "id": "3679cf58",
   "metadata": {},
   "outputs": [],
   "source": [
    "# import necessary packages\n",
    "import numpy as np\n",
    "from numpy import set_printoptions\n",
    "import pandas as pd\n",
    "from pandas import read_csv\n",
    "import matplotlib.pyplot as plt\n",
    "from matplotlib import colors\n",
    "from sklearn.model_selection import train_test_split\n",
    "from sklearn.preprocessing import StandardScaler\n",
    "from sklearn.feature_selection import SelectKBest\n",
    "from sklearn.feature_selection import f_classif\n",
    "from sklearn.feature_selection import RFE\n",
    "from sklearn.linear_model import LogisticRegression\n",
    "from sklearn.decomposition import PCA\n",
    "from sklearn.ensemble import ExtraTreesClassifier\n",
    "\n",
    "# reading csv data file\n",
    "df = read_csv(\"myClassDataSet.csv\")\n",
    "\n",
    "# data prep\n",
    "array = df.values\n",
    "data = array[:,0:8]\n",
    "target = array[:,8]"
   ]
  },
  {
   "cell_type": "markdown",
   "id": "37a39fa2",
   "metadata": {},
   "source": [
    "## Problem 1"
   ]
  },
  {
   "cell_type": "markdown",
   "id": "234524c0",
   "metadata": {},
   "source": [
    "### (a)"
   ]
  },
  {
   "cell_type": "code",
   "execution_count": 2,
   "id": "0b0dea2f",
   "metadata": {},
   "outputs": [
    {
     "data": {
      "text/html": [
       "<div>\n",
       "<style scoped>\n",
       "    .dataframe tbody tr th:only-of-type {\n",
       "        vertical-align: middle;\n",
       "    }\n",
       "\n",
       "    .dataframe tbody tr th {\n",
       "        vertical-align: top;\n",
       "    }\n",
       "\n",
       "    .dataframe thead th {\n",
       "        text-align: right;\n",
       "    }\n",
       "</style>\n",
       "<table border=\"1\" class=\"dataframe\">\n",
       "  <thead>\n",
       "    <tr style=\"text-align: right;\">\n",
       "      <th></th>\n",
       "      <th>f1</th>\n",
       "      <th>f2</th>\n",
       "      <th>f3</th>\n",
       "      <th>f4</th>\n",
       "      <th>f5</th>\n",
       "      <th>f6</th>\n",
       "      <th>f7</th>\n",
       "      <th>f8</th>\n",
       "      <th>class</th>\n",
       "    </tr>\n",
       "  </thead>\n",
       "  <tbody>\n",
       "    <tr>\n",
       "      <th>0</th>\n",
       "      <td>3.125845</td>\n",
       "      <td>4.213543</td>\n",
       "      <td>2.786926</td>\n",
       "      <td>0.832175</td>\n",
       "      <td>-1.178735</td>\n",
       "      <td>3.581140</td>\n",
       "      <td>-2.352872</td>\n",
       "      <td>7.804524</td>\n",
       "      <td>0</td>\n",
       "    </tr>\n",
       "    <tr>\n",
       "      <th>1</th>\n",
       "      <td>2.092247</td>\n",
       "      <td>3.383249</td>\n",
       "      <td>0.434993</td>\n",
       "      <td>2.003855</td>\n",
       "      <td>-2.525389</td>\n",
       "      <td>2.231663</td>\n",
       "      <td>-1.043635</td>\n",
       "      <td>7.149358</td>\n",
       "      <td>0</td>\n",
       "    </tr>\n",
       "    <tr>\n",
       "      <th>2</th>\n",
       "      <td>1.028549</td>\n",
       "      <td>3.944043</td>\n",
       "      <td>0.059291</td>\n",
       "      <td>0.011443</td>\n",
       "      <td>-1.309637</td>\n",
       "      <td>1.272289</td>\n",
       "      <td>-1.005366</td>\n",
       "      <td>7.434625</td>\n",
       "      <td>0</td>\n",
       "    </tr>\n",
       "    <tr>\n",
       "      <th>3</th>\n",
       "      <td>1.331028</td>\n",
       "      <td>4.920674</td>\n",
       "      <td>2.063895</td>\n",
       "      <td>1.424668</td>\n",
       "      <td>-1.073122</td>\n",
       "      <td>1.088142</td>\n",
       "      <td>-1.211250</td>\n",
       "      <td>8.603362</td>\n",
       "      <td>0</td>\n",
       "    </tr>\n",
       "    <tr>\n",
       "      <th>4</th>\n",
       "      <td>0.699447</td>\n",
       "      <td>5.427693</td>\n",
       "      <td>1.881804</td>\n",
       "      <td>0.387634</td>\n",
       "      <td>-0.134386</td>\n",
       "      <td>3.955468</td>\n",
       "      <td>-1.229464</td>\n",
       "      <td>7.241683</td>\n",
       "      <td>0</td>\n",
       "    </tr>\n",
       "    <tr>\n",
       "      <th>5</th>\n",
       "      <td>0.694695</td>\n",
       "      <td>3.714401</td>\n",
       "      <td>2.500049</td>\n",
       "      <td>1.920056</td>\n",
       "      <td>-2.025116</td>\n",
       "      <td>2.486468</td>\n",
       "      <td>-1.527237</td>\n",
       "      <td>8.365294</td>\n",
       "      <td>0</td>\n",
       "    </tr>\n",
       "    <tr>\n",
       "      <th>6</th>\n",
       "      <td>10.504756</td>\n",
       "      <td>-2.354584</td>\n",
       "      <td>5.086298</td>\n",
       "      <td>0.726694</td>\n",
       "      <td>1.799039</td>\n",
       "      <td>8.895587</td>\n",
       "      <td>-7.030143</td>\n",
       "      <td>-8.983998</td>\n",
       "      <td>1</td>\n",
       "    </tr>\n",
       "    <tr>\n",
       "      <th>7</th>\n",
       "      <td>8.694552</td>\n",
       "      <td>-3.626823</td>\n",
       "      <td>6.653397</td>\n",
       "      <td>1.042575</td>\n",
       "      <td>2.567122</td>\n",
       "      <td>8.436418</td>\n",
       "      <td>-8.355885</td>\n",
       "      <td>-8.235446</td>\n",
       "      <td>1</td>\n",
       "    </tr>\n",
       "    <tr>\n",
       "      <th>8</th>\n",
       "      <td>0.351243</td>\n",
       "      <td>3.913395</td>\n",
       "      <td>2.167825</td>\n",
       "      <td>0.242119</td>\n",
       "      <td>-1.459387</td>\n",
       "      <td>3.695486</td>\n",
       "      <td>-1.283999</td>\n",
       "      <td>8.171476</td>\n",
       "      <td>0</td>\n",
       "    </tr>\n",
       "    <tr>\n",
       "      <th>9</th>\n",
       "      <td>9.101069</td>\n",
       "      <td>-1.121785</td>\n",
       "      <td>5.898558</td>\n",
       "      <td>-0.485882</td>\n",
       "      <td>1.281704</td>\n",
       "      <td>7.984437</td>\n",
       "      <td>-8.119064</td>\n",
       "      <td>-8.656581</td>\n",
       "      <td>1</td>\n",
       "    </tr>\n",
       "  </tbody>\n",
       "</table>\n",
       "</div>"
      ],
      "text/plain": [
       "          f1        f2        f3        f4        f5        f6        f7  \\\n",
       "0   3.125845  4.213543  2.786926  0.832175 -1.178735  3.581140 -2.352872   \n",
       "1   2.092247  3.383249  0.434993  2.003855 -2.525389  2.231663 -1.043635   \n",
       "2   1.028549  3.944043  0.059291  0.011443 -1.309637  1.272289 -1.005366   \n",
       "3   1.331028  4.920674  2.063895  1.424668 -1.073122  1.088142 -1.211250   \n",
       "4   0.699447  5.427693  1.881804  0.387634 -0.134386  3.955468 -1.229464   \n",
       "5   0.694695  3.714401  2.500049  1.920056 -2.025116  2.486468 -1.527237   \n",
       "6  10.504756 -2.354584  5.086298  0.726694  1.799039  8.895587 -7.030143   \n",
       "7   8.694552 -3.626823  6.653397  1.042575  2.567122  8.436418 -8.355885   \n",
       "8   0.351243  3.913395  2.167825  0.242119 -1.459387  3.695486 -1.283999   \n",
       "9   9.101069 -1.121785  5.898558 -0.485882  1.281704  7.984437 -8.119064   \n",
       "\n",
       "         f8  class  \n",
       "0  7.804524      0  \n",
       "1  7.149358      0  \n",
       "2  7.434625      0  \n",
       "3  8.603362      0  \n",
       "4  7.241683      0  \n",
       "5  8.365294      0  \n",
       "6 -8.983998      1  \n",
       "7 -8.235446      1  \n",
       "8  8.171476      0  \n",
       "9 -8.656581      1  "
      ]
     },
     "execution_count": 2,
     "metadata": {},
     "output_type": "execute_result"
    }
   ],
   "source": [
    "# shows first 10 rows\n",
    "df.head(10)"
   ]
  },
  {
   "cell_type": "code",
   "execution_count": 3,
   "id": "7adb9cb5",
   "metadata": {},
   "outputs": [
    {
     "data": {
      "text/plain": [
       "(1000, 9)"
      ]
     },
     "execution_count": 3,
     "metadata": {},
     "output_type": "execute_result"
    }
   ],
   "source": [
    "# shows shape in (rows,columns) or (data points, features) format\n",
    "df.shape"
   ]
  },
  {
   "cell_type": "markdown",
   "id": "7fdf4d70",
   "metadata": {},
   "source": [
    "### (b)"
   ]
  },
  {
   "cell_type": "code",
   "execution_count": 4,
   "id": "c3114918",
   "metadata": {},
   "outputs": [
    {
     "data": {
      "text/html": [
       "<div>\n",
       "<style scoped>\n",
       "    .dataframe tbody tr th:only-of-type {\n",
       "        vertical-align: middle;\n",
       "    }\n",
       "\n",
       "    .dataframe tbody tr th {\n",
       "        vertical-align: top;\n",
       "    }\n",
       "\n",
       "    .dataframe thead th {\n",
       "        text-align: right;\n",
       "    }\n",
       "</style>\n",
       "<table border=\"1\" class=\"dataframe\">\n",
       "  <thead>\n",
       "    <tr style=\"text-align: right;\">\n",
       "      <th></th>\n",
       "      <th>f1</th>\n",
       "      <th>f2</th>\n",
       "      <th>f3</th>\n",
       "      <th>f4</th>\n",
       "      <th>f5</th>\n",
       "      <th>f6</th>\n",
       "      <th>f7</th>\n",
       "      <th>f8</th>\n",
       "      <th>class</th>\n",
       "    </tr>\n",
       "  </thead>\n",
       "  <tbody>\n",
       "    <tr>\n",
       "      <th>count</th>\n",
       "      <td>1000.0000</td>\n",
       "      <td>1000.0000</td>\n",
       "      <td>1000.0000</td>\n",
       "      <td>1000.0000</td>\n",
       "      <td>1000.0000</td>\n",
       "      <td>1000.0000</td>\n",
       "      <td>1000.0000</td>\n",
       "      <td>1000.0000</td>\n",
       "      <td>1000.0000</td>\n",
       "    </tr>\n",
       "    <tr>\n",
       "      <th>mean</th>\n",
       "      <td>5.1092</td>\n",
       "      <td>0.9219</td>\n",
       "      <td>3.9443</td>\n",
       "      <td>0.7502</td>\n",
       "      <td>-0.0855</td>\n",
       "      <td>5.7543</td>\n",
       "      <td>-4.9722</td>\n",
       "      <td>-0.2408</td>\n",
       "      <td>0.5000</td>\n",
       "    </tr>\n",
       "    <tr>\n",
       "      <th>std</th>\n",
       "      <td>4.2549</td>\n",
       "      <td>3.4461</td>\n",
       "      <td>2.1666</td>\n",
       "      <td>0.9963</td>\n",
       "      <td>1.7942</td>\n",
       "      <td>2.9325</td>\n",
       "      <td>3.7644</td>\n",
       "      <td>8.1029</td>\n",
       "      <td>0.5003</td>\n",
       "    </tr>\n",
       "    <tr>\n",
       "      <th>min</th>\n",
       "      <td>-2.0302</td>\n",
       "      <td>-5.4004</td>\n",
       "      <td>-1.6848</td>\n",
       "      <td>-2.3146</td>\n",
       "      <td>-4.6438</td>\n",
       "      <td>0.1782</td>\n",
       "      <td>-11.1596</td>\n",
       "      <td>-11.2649</td>\n",
       "      <td>0.0000</td>\n",
       "    </tr>\n",
       "    <tr>\n",
       "      <th>25%</th>\n",
       "      <td>0.9464</td>\n",
       "      <td>-2.3457</td>\n",
       "      <td>2.0561</td>\n",
       "      <td>0.0705</td>\n",
       "      <td>-1.5427</td>\n",
       "      <td>2.9813</td>\n",
       "      <td>-8.5976</td>\n",
       "      <td>-8.3088</td>\n",
       "      <td>0.0000</td>\n",
       "    </tr>\n",
       "    <tr>\n",
       "      <th>50%</th>\n",
       "      <td>5.5619</td>\n",
       "      <td>0.7030</td>\n",
       "      <td>3.9986</td>\n",
       "      <td>0.7154</td>\n",
       "      <td>-0.1841</td>\n",
       "      <td>5.5234</td>\n",
       "      <td>-4.7716</td>\n",
       "      <td>-0.2441</td>\n",
       "      <td>0.5000</td>\n",
       "    </tr>\n",
       "    <tr>\n",
       "      <th>75%</th>\n",
       "      <td>9.2131</td>\n",
       "      <td>4.1889</td>\n",
       "      <td>5.8355</td>\n",
       "      <td>1.4289</td>\n",
       "      <td>1.4234</td>\n",
       "      <td>8.5120</td>\n",
       "      <td>-1.2924</td>\n",
       "      <td>7.7789</td>\n",
       "      <td>1.0000</td>\n",
       "    </tr>\n",
       "    <tr>\n",
       "      <th>max</th>\n",
       "      <td>12.4851</td>\n",
       "      <td>7.7313</td>\n",
       "      <td>8.6763</td>\n",
       "      <td>3.5604</td>\n",
       "      <td>4.6536</td>\n",
       "      <td>11.5151</td>\n",
       "      <td>1.6808</td>\n",
       "      <td>10.1751</td>\n",
       "      <td>1.0000</td>\n",
       "    </tr>\n",
       "  </tbody>\n",
       "</table>\n",
       "</div>"
      ],
      "text/plain": [
       "              f1         f2         f3         f4         f5         f6         f7         f8      class\n",
       "count  1000.0000  1000.0000  1000.0000  1000.0000  1000.0000  1000.0000  1000.0000  1000.0000  1000.0000\n",
       "mean      5.1092     0.9219     3.9443     0.7502    -0.0855     5.7543    -4.9722    -0.2408     0.5000\n",
       "std       4.2549     3.4461     2.1666     0.9963     1.7942     2.9325     3.7644     8.1029     0.5003\n",
       "min      -2.0302    -5.4004    -1.6848    -2.3146    -4.6438     0.1782   -11.1596   -11.2649     0.0000\n",
       "25%       0.9464    -2.3457     2.0561     0.0705    -1.5427     2.9813    -8.5976    -8.3088     0.0000\n",
       "50%       5.5619     0.7030     3.9986     0.7154    -0.1841     5.5234    -4.7716    -0.2441     0.5000\n",
       "75%       9.2131     4.1889     5.8355     1.4289     1.4234     8.5120    -1.2924     7.7789     1.0000\n",
       "max      12.4851     7.7313     8.6763     3.5604     4.6536    11.5151     1.6808    10.1751     1.0000"
      ]
     },
     "execution_count": 4,
     "metadata": {},
     "output_type": "execute_result"
    }
   ],
   "source": [
    "# display summary of data\n",
    "pd.set_option(\"display.precision\",4)\n",
    "pd.set_option(\"display.width\",200)\n",
    "df.describe()"
   ]
  },
  {
   "cell_type": "markdown",
   "id": "f509445e",
   "metadata": {},
   "source": [
    "### (c)"
   ]
  },
  {
   "cell_type": "code",
   "execution_count": 5,
   "id": "550108de",
   "metadata": {},
   "outputs": [
    {
     "data": {
      "image/png": "[encoded data removed]",
      "text/plain": [
       "<Figure size 640x480 with 1 Axes>"
      ]
     },
     "metadata": {},
     "output_type": "display_data"
    }
   ],
   "source": [
    "# creates boxplot of features\n",
    "df.plot(kind='box')\n",
    "plt.show()"
   ]
  },
  {
   "cell_type": "markdown",
   "id": "4fa71ef0",
   "metadata": {},
   "source": [
    "The boxplots above show fairly symmetric distribution in all of the features except for feature 4. Feature 4 clearly shows the presence of outliers on both the upper and lower ends.  Far more outliers are present on the lower end and could represent a skew as well."
   ]
  },
  {
   "cell_type": "markdown",
   "id": "6d6f247e",
   "metadata": {},
   "source": [
    "### (d)"
   ]
  },
  {
   "cell_type": "code",
   "execution_count": 6,
   "id": "817449f9",
   "metadata": {},
   "outputs": [
    {
     "data": {
      "image/png": "[encoded data removed]",
      "text/plain": [
       "<Figure size 640x480 with 1 Axes>"
      ]
     },
     "metadata": {},
     "output_type": "display_data"
    }
   ],
   "source": [
    "# set up colors for color map\n",
    "cmap = colors.ListedColormap(['green', 'red'])\n",
    "\n",
    "# plotting the three feature pairs and output\n",
    "plt.scatter(df.f1,df.f2,c=target,cmap=cmap)\n",
    "plt.scatter(df.f1,df.f3,c=target,cmap=cmap)\n",
    "plt.scatter(df.f1,df.f4,c=target,cmap=cmap)\n",
    "\n",
    "plt.show()"
   ]
  },
  {
   "cell_type": "markdown",
   "id": "84b595d4",
   "metadata": {},
   "source": [
    "In the figure above, green represents a class value of 0 and red represents a class value of 1."
   ]
  },
  {
   "cell_type": "markdown",
   "id": "e09a5fc2",
   "metadata": {},
   "source": [
    "### (e)"
   ]
  },
  {
   "cell_type": "code",
   "execution_count": 7,
   "id": "b11c9dcb",
   "metadata": {},
   "outputs": [
    {
     "data": {
      "image/png": "[encoded data removed]",
      "text/plain": [
       "<Figure size 480x480 with 2 Axes>"
      ]
     },
     "metadata": {},
     "output_type": "display_data"
    }
   ],
   "source": [
    "# correlation matrix and plotting\n",
    "plt.matshow(df.corr())\n",
    "plt.title(\"Correlation of Features\")\n",
    "plt.xlabel(\"FeatureX\")\n",
    "plt.ylabel(\"FeatureY\")\n",
    "plt.colorbar()\n",
    "\n",
    "plt.show()"
   ]
  },
  {
   "cell_type": "markdown",
   "id": "0bb0ce31",
   "metadata": {},
   "source": [
    "## Problem 2"
   ]
  },
  {
   "cell_type": "markdown",
   "id": "b452e22d",
   "metadata": {},
   "source": [
    "### (a)"
   ]
  },
  {
   "cell_type": "code",
   "execution_count": 8,
   "id": "72e4f6f3",
   "metadata": {},
   "outputs": [
    {
     "name": "stdout",
     "output_type": "stream",
     "text": [
      "[[-0.466  0.956 -0.534  0.082 -0.61  -0.741  0.696  0.993]\n",
      " [-0.709  0.715 -1.621  1.259 -1.361 -1.202  1.044  0.912]\n",
      " [-0.96   0.877 -1.794 -0.742 -0.683 -1.529  1.054  0.948]\n",
      " [-0.888  1.161 -0.868  0.677 -0.551 -1.592  1.     1.092]\n",
      " [-1.037  1.308 -0.952 -0.364 -0.027 -0.614  0.995  0.924]\n",
      " [-1.038  0.811 -0.667  1.175 -1.082 -1.115  0.916  1.063]\n",
      " [ 1.269 -0.951  0.527 -0.024  1.051  1.072 -0.547 -1.08 ]]\n"
     ]
    }
   ],
   "source": [
    "# set and use Standard Scaler to transform our data\n",
    "scaler = StandardScaler()\n",
    "preparedData = scaler.fit_transform(data)\n",
    "\n",
    "# print data output\n",
    "np.set_printoptions(precision = 3)\n",
    "print(preparedData[:7])"
   ]
  },
  {
   "cell_type": "markdown",
   "id": "7a69c819",
   "metadata": {},
   "source": [
    "### (b)"
   ]
  },
  {
   "cell_type": "code",
   "execution_count": 9,
   "id": "3e14b5bd",
   "metadata": {},
   "outputs": [
    {
     "name": "stdout",
     "output_type": "stream",
     "text": [
      "[[ 1.077 -0.646  0.492  0.085  0.411  0.889 -1.124 -1.007]\n",
      " [-0.988  1.479 -1.216 -0.682 -0.859 -1.194  1.289  0.864]\n",
      " [-0.876  1.331 -0.804 -0.833 -0.313 -0.751  1.134  1.086]]\n"
     ]
    }
   ],
   "source": [
    "# split our data into training and test sets\n",
    "X_train, X_test, Y_train, Y_test = train_test_split(preparedData, target, test_size = 0.2)\n",
    "\n",
    "# shows the first rows of our training set\n",
    "np.set_printoptions(precision = 3)\n",
    "print(X_train[0:3])"
   ]
  },
  {
   "cell_type": "code",
   "execution_count": 10,
   "id": "ebc1d68e",
   "metadata": {},
   "outputs": [
    {
     "name": "stdout",
     "output_type": "stream",
     "text": [
      "[[ 1.077 -0.646  0.492  0.889 -1.124 -1.007]\n",
      " [-0.988  1.479 -1.216 -1.194  1.289  0.864]\n",
      " [-0.876  1.331 -0.804 -0.751  1.134  1.086]\n",
      " [ 1.232 -1.351  1.108  1.41  -0.598 -0.913]\n",
      " [ 0.939 -0.593  0.902  0.761 -0.836 -1.039]\n",
      " [ 0.955 -1.101  0.283  1.151 -0.922 -0.927]]\n"
     ]
    }
   ],
   "source": [
    "# SelectKBest\n",
    "kBestData = SelectKBest(score_func=f_classif,k=6).fit_transform(X_train, Y_train)\n",
    "\n",
    "# shows the chosen top 6 features\n",
    "np.set_printoptions(precision = 3)\n",
    "print(kBestData[0:6])"
   ]
  },
  {
   "cell_type": "markdown",
   "id": "bd07c8b5",
   "metadata": {},
   "source": [
    "From comparing the arrays, we can tell that features 1,2,3,6,7, & 8 are the top 6 features."
   ]
  },
  {
   "cell_type": "markdown",
   "id": "9b0b1c3f",
   "metadata": {},
   "source": [
    "### (c)"
   ]
  },
  {
   "cell_type": "code",
   "execution_count": 11,
   "id": "4849b203",
   "metadata": {},
   "outputs": [
    {
     "name": "stdout",
     "output_type": "stream",
     "text": [
      "6\n",
      "[ True  True  True False False  True  True  True]\n",
      "[1 1 1 3 2 1 1 1]\n"
     ]
    }
   ],
   "source": [
    "# split our data into training and test sets\n",
    "X_train, X_test, Y_train, Y_test = train_test_split(preparedData, target, test_size = 0.2)\n",
    "\n",
    "# RFE w/ Regression\n",
    "regressionData = RFE(estimator=LogisticRegression(), n_features_to_select=6)\n",
    "regressionData = regressionData.fit(X_train, Y_train)\n",
    "\n",
    "# print n_features_,support_, and ranking_\n",
    "print(regressionData.n_features_)\n",
    "print(regressionData.support_)\n",
    "print(regressionData.ranking_)"
   ]
  },
  {
   "cell_type": "markdown",
   "id": "830ea118",
   "metadata": {},
   "source": [
    "In this case, features 1,2,3,6,7,& 8 were chosen as the top 6 features with 5 being considered higher than 4 after that."
   ]
  },
  {
   "cell_type": "markdown",
   "id": "6873d663",
   "metadata": {},
   "source": [
    "### (d)"
   ]
  },
  {
   "cell_type": "code",
   "execution_count": 12,
   "id": "a2622de0",
   "metadata": {},
   "outputs": [
    {
     "name": "stdout",
     "output_type": "stream",
     "text": [
      "[0.788 0.121]\n"
     ]
    }
   ],
   "source": [
    "# PCA\n",
    "pca = PCA(n_components=2)\n",
    "pcaData = pca.fit_transform(preparedData)\n",
    "\n",
    "# print explained_variance_ratio_\n",
    "print(pca.explained_variance_ratio_)"
   ]
  },
  {
   "cell_type": "markdown",
   "id": "fcaf68e6",
   "metadata": {},
   "source": [
    "78.8% of the variance is explained by feature 1 and 12.1% is explained by feature 2"
   ]
  },
  {
   "cell_type": "markdown",
   "id": "a7b9700a",
   "metadata": {},
   "source": [
    "### (e)"
   ]
  },
  {
   "cell_type": "code",
   "execution_count": 13,
   "id": "34a6aa2a",
   "metadata": {},
   "outputs": [
    {
     "name": "stdout",
     "output_type": "stream",
     "text": [
      "[0.312 0.22  0.061 0.    0.005 0.01  0.14  0.252]\n"
     ]
    }
   ],
   "source": [
    "# ExtraTreesClassifier\n",
    "extraTrees = ExtraTreesClassifier(n_estimators=8)\n",
    "extraTrees.fit(X_train,Y_train)\n",
    "\n",
    "# print feature_importances_\n",
    "print(extraTrees.feature_importances_)"
   ]
  }
 ],
 "metadata": {
  "kernelspec": {
   "display_name": "Python 3 (ipykernel)",
   "language": "python",
   "name": "python3"
  },
  "language_info": {
   "codemirror_mode": {
    "name": "ipython",
    "version": 3
   },
   "file_extension": ".py",
   "mimetype": "text/x-python",
   "name": "python",
   "nbconvert_exporter": "python",
   "pygments_lexer": "ipython3",
   "version": "3.9.13"
  }
 },
 "nbformat": 4,
 "nbformat_minor": 5
}
